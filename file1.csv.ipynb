{
 "cells": [
  {
   "cell_type": "code",
   "execution_count": 5,
   "id": "4cbec08a",
   "metadata": {},
   "outputs": [],
   "source": [
    "def greet(subject):\n",
    "    print(f\" Hello {subject}\")"
   ]
  },
  {
   "cell_type": "code",
   "execution_count": 6,
   "id": "5c56e1cb",
   "metadata": {},
   "outputs": [
    {
     "name": "stdout",
     "output_type": "stream",
     "text": [
      " Hello World!\n"
     ]
    }
   ],
   "source": [
    "greet(\"World!\")"
   ]
  },
  {
   "cell_type": "code",
   "execution_count": null,
   "id": "bf34d1fd",
   "metadata": {},
   "outputs": [],
   "source": []
  }
 ],
 "metadata": {
  "kernelspec": {
   "display_name": "Python 3 (ipykernel)",
   "language": "python",
   "name": "python3"
  },
  "language_info": {
   "codemirror_mode": {
    "name": "ipython",
    "version": 3
   },
   "file_extension": ".py",
   "mimetype": "text/x-python",
   "name": "python",
   "nbconvert_exporter": "python",
   "pygments_lexer": "ipython3",
   "version": "3.11.4"
  }
 },
 "nbformat": 4,
 "nbformat_minor": 5
}
